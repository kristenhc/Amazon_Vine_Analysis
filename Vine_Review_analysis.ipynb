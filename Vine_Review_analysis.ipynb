{
 "cells": [
  {
   "cell_type": "code",
   "execution_count": null,
   "id": "e6444dde",
   "metadata": {},
   "outputs": [],
   "source": [
    "import pandas as pd\n"
   ]
  },
  {
   "cell_type": "code",
   "execution_count": null,
   "id": "5b8c0677",
   "metadata": {},
   "outputs": [],
   "source": [
    "# Read in vine_table csv as a dataFrame\n",
    "vine_df = pd.read_csv(\"vine_table.csv\")\n",
    "vine_df.head()"
   ]
  },
  {
   "cell_type": "code",
   "execution_count": null,
   "id": "ea3f0ea6",
   "metadata": {},
   "outputs": [],
   "source": [
    "# New dataFrame with vote count >= 20.\n",
    "total_votes_df = vine_df.loc[vine_df[\"total_votes\"] >= 20, :]\n",
    "total_votes_df.head()"
   ]
  },
  {
   "cell_type": "code",
   "execution_count": null,
   "id": "9c69b7a4",
   "metadata": {},
   "outputs": [],
   "source": [
    "# New dataFrame where percentage of helpful_votes is >= 50%\n",
    "vote_ratio = (total_votes_df[\"helpful_votes\"])/(total_votes_df[\"total_votes\"])\n",
    "helpful_votes_df = total_votes_df.loc[vote_ratio > 0.5, :]\n",
    "helpful_votes_df.count()"
   ]
  },
  {
   "cell_type": "code",
   "execution_count": null,
   "id": "4e151c94",
   "metadata": {},
   "outputs": [],
   "source": [
    "# DF Vine review\n",
    "paid_df = helpful_votes_df.loc[helpful_votes_df[\"vine\"] == \"Y\", :]\n",
    "paid_df.head()"
   ]
  },
  {
   "cell_type": "code",
   "execution_count": null,
   "id": "78472ec0",
   "metadata": {},
   "outputs": [],
   "source": [
    "# DF no Vine review\n",
    "unpaid_df = helpful_votes_df.loc[helpful_votes_df[\"vine\"] == \"N\", :]\n",
    "unpaid_df.head()"
   ]
  },
  {
   "cell_type": "code",
   "execution_count": null,
   "id": "c8094985",
   "metadata": {},
   "outputs": [],
   "source": [
    "unpaid_df.count()"
   ]
  },
  {
   "cell_type": "code",
   "execution_count": null,
   "id": "17119117",
   "metadata": {},
   "outputs": [],
   "source": [
    "# Total number reviews, total 5-star reviews, and percentage of 5 stars for all Vine and non-Vine reviews\n",
    "total_reviews = vine_df.count()\n",
    "five_stars_count = (vine_df.loc[vine_df[\"star_rating\"] == 5.0, :]).shape[0]\n",
    "print(five_stars_count)"
   ]
  },
  {
   "cell_type": "code",
   "execution_count": null,
   "id": "b4c02d6b",
   "metadata": {},
   "outputs": [],
   "source": [
    "paid_percentage = round((five_stars_count / total_reviews * 100), 2)\n",
    "paid_percentage"
   ]
  },
  {
   "cell_type": "code",
   "execution_count": null,
   "id": "ecfedb45",
   "metadata": {},
   "outputs": [],
   "source": [
    "unpaid_percentage = round((4469 / total_reviews * 100), 2)\n",
    "unpaid_percentage"
   ]
  }
 ],
 "metadata": {
  "kernelspec": {
   "display_name": "Python 3 (ipykernel)",
   "language": "python",
   "name": "python3"
  },
  "language_info": {
   "codemirror_mode": {
    "name": "ipython",
    "version": 3
   },
   "file_extension": ".py",
   "mimetype": "text/x-python",
   "name": "python",
   "nbconvert_exporter": "python",
   "pygments_lexer": "ipython3",
   "version": "3.9.12"
  }
 },
 "nbformat": 4,
 "nbformat_minor": 5
}
